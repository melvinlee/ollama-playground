{
 "cells": [
  {
   "cell_type": "markdown",
   "metadata": {},
   "source": [
    "# Build a RAG with LangChain, Ollama and Vector Store"
   ]
  },
  {
   "cell_type": "code",
   "execution_count": null,
   "metadata": {},
   "outputs": [
    {
     "name": "stdout",
     "output_type": "stream",
     "text": [
      "Requirement already satisfied: langchain-community in /Volumes/SSD/melvinlee/Developer/ollama-playground/.venv/lib/python3.9/site-packages (0.3.17)\n",
      "Requirement already satisfied: python-dotenv in /Volumes/SSD/melvinlee/Developer/ollama-playground/.venv/lib/python3.9/site-packages (1.0.1)\n",
      "Requirement already satisfied: pymupdf in /Volumes/SSD/melvinlee/Developer/ollama-playground/.venv/lib/python3.9/site-packages (1.25.3)\n",
      "Collecting tqdm\n",
      "  Downloading tqdm-4.67.1-py3-none-any.whl (78 kB)\n",
      "\u001b[2K     \u001b[38;2;114;156;31m━━━━━━━━━━━━━━━━━━━━━━━━━━━━━━━━━━━━━━━━\u001b[0m \u001b[32m78.5/78.5 kB\u001b[0m \u001b[31m7.7 MB/s\u001b[0m eta \u001b[36m0:00:00\u001b[0m\n",
      "\u001b[?25hRequirement already satisfied: tenacity!=8.4.0,<10,>=8.1.0 in /Volumes/SSD/melvinlee/Developer/ollama-playground/.venv/lib/python3.9/site-packages (from langchain-community) (9.0.0)\n",
      "Requirement already satisfied: numpy<2,>=1.26.4 in /Volumes/SSD/melvinlee/Developer/ollama-playground/.venv/lib/python3.9/site-packages (from langchain-community) (1.26.4)\n",
      "Requirement already satisfied: langchain-core<1.0.0,>=0.3.34 in /Volumes/SSD/melvinlee/Developer/ollama-playground/.venv/lib/python3.9/site-packages (from langchain-community) (0.3.34)\n",
      "Requirement already satisfied: httpx-sse<1.0.0,>=0.4.0 in /Volumes/SSD/melvinlee/Developer/ollama-playground/.venv/lib/python3.9/site-packages (from langchain-community) (0.4.0)\n",
      "Requirement already satisfied: SQLAlchemy<3,>=1.4 in /Volumes/SSD/melvinlee/Developer/ollama-playground/.venv/lib/python3.9/site-packages (from langchain-community) (2.0.38)\n",
      "Requirement already satisfied: pydantic-settings<3.0.0,>=2.4.0 in /Volumes/SSD/melvinlee/Developer/ollama-playground/.venv/lib/python3.9/site-packages (from langchain-community) (2.7.1)\n",
      "Requirement already satisfied: langchain<1.0.0,>=0.3.18 in /Volumes/SSD/melvinlee/Developer/ollama-playground/.venv/lib/python3.9/site-packages (from langchain-community) (0.3.18)\n",
      "Requirement already satisfied: aiohttp<4.0.0,>=3.8.3 in /Volumes/SSD/melvinlee/Developer/ollama-playground/.venv/lib/python3.9/site-packages (from langchain-community) (3.11.12)\n",
      "Requirement already satisfied: langsmith<0.4,>=0.1.125 in /Volumes/SSD/melvinlee/Developer/ollama-playground/.venv/lib/python3.9/site-packages (from langchain-community) (0.3.8)\n",
      "Requirement already satisfied: PyYAML>=5.3 in /Volumes/SSD/melvinlee/Developer/ollama-playground/.venv/lib/python3.9/site-packages (from langchain-community) (6.0.2)\n",
      "Requirement already satisfied: dataclasses-json<0.7,>=0.5.7 in /Volumes/SSD/melvinlee/Developer/ollama-playground/.venv/lib/python3.9/site-packages (from langchain-community) (0.6.7)\n",
      "Requirement already satisfied: requests<3,>=2 in /Volumes/SSD/melvinlee/Developer/ollama-playground/.venv/lib/python3.9/site-packages (from langchain-community) (2.32.3)\n",
      "Requirement already satisfied: aiohappyeyeballs>=2.3.0 in /Volumes/SSD/melvinlee/Developer/ollama-playground/.venv/lib/python3.9/site-packages (from aiohttp<4.0.0,>=3.8.3->langchain-community) (2.4.6)\n",
      "Requirement already satisfied: frozenlist>=1.1.1 in /Volumes/SSD/melvinlee/Developer/ollama-playground/.venv/lib/python3.9/site-packages (from aiohttp<4.0.0,>=3.8.3->langchain-community) (1.5.0)\n",
      "Requirement already satisfied: yarl<2.0,>=1.17.0 in /Volumes/SSD/melvinlee/Developer/ollama-playground/.venv/lib/python3.9/site-packages (from aiohttp<4.0.0,>=3.8.3->langchain-community) (1.18.3)\n",
      "Requirement already satisfied: multidict<7.0,>=4.5 in /Volumes/SSD/melvinlee/Developer/ollama-playground/.venv/lib/python3.9/site-packages (from aiohttp<4.0.0,>=3.8.3->langchain-community) (6.1.0)\n",
      "Requirement already satisfied: async-timeout<6.0,>=4.0 in /Volumes/SSD/melvinlee/Developer/ollama-playground/.venv/lib/python3.9/site-packages (from aiohttp<4.0.0,>=3.8.3->langchain-community) (4.0.3)\n",
      "Requirement already satisfied: propcache>=0.2.0 in /Volumes/SSD/melvinlee/Developer/ollama-playground/.venv/lib/python3.9/site-packages (from aiohttp<4.0.0,>=3.8.3->langchain-community) (0.2.1)\n",
      "Requirement already satisfied: attrs>=17.3.0 in /Volumes/SSD/melvinlee/Developer/ollama-playground/.venv/lib/python3.9/site-packages (from aiohttp<4.0.0,>=3.8.3->langchain-community) (25.1.0)\n",
      "Requirement already satisfied: aiosignal>=1.1.2 in /Volumes/SSD/melvinlee/Developer/ollama-playground/.venv/lib/python3.9/site-packages (from aiohttp<4.0.0,>=3.8.3->langchain-community) (1.3.2)\n",
      "Requirement already satisfied: marshmallow<4.0.0,>=3.18.0 in /Volumes/SSD/melvinlee/Developer/ollama-playground/.venv/lib/python3.9/site-packages (from dataclasses-json<0.7,>=0.5.7->langchain-community) (3.26.1)\n",
      "Requirement already satisfied: typing-inspect<1,>=0.4.0 in /Volumes/SSD/melvinlee/Developer/ollama-playground/.venv/lib/python3.9/site-packages (from dataclasses-json<0.7,>=0.5.7->langchain-community) (0.9.0)\n",
      "Requirement already satisfied: langchain-text-splitters<1.0.0,>=0.3.6 in /Volumes/SSD/melvinlee/Developer/ollama-playground/.venv/lib/python3.9/site-packages (from langchain<1.0.0,>=0.3.18->langchain-community) (0.3.6)\n",
      "Requirement already satisfied: pydantic<3.0.0,>=2.7.4 in /Volumes/SSD/melvinlee/Developer/ollama-playground/.venv/lib/python3.9/site-packages (from langchain<1.0.0,>=0.3.18->langchain-community) (2.10.6)\n",
      "Requirement already satisfied: jsonpatch<2.0,>=1.33 in /Volumes/SSD/melvinlee/Developer/ollama-playground/.venv/lib/python3.9/site-packages (from langchain-core<1.0.0,>=0.3.34->langchain-community) (1.33)\n",
      "Requirement already satisfied: packaging<25,>=23.2 in /Volumes/SSD/melvinlee/Developer/ollama-playground/.venv/lib/python3.9/site-packages (from langchain-core<1.0.0,>=0.3.34->langchain-community) (24.2)\n",
      "Requirement already satisfied: typing-extensions>=4.7 in /Volumes/SSD/melvinlee/Developer/ollama-playground/.venv/lib/python3.9/site-packages (from langchain-core<1.0.0,>=0.3.34->langchain-community) (4.12.2)\n",
      "Requirement already satisfied: orjson<4.0.0,>=3.9.14 in /Volumes/SSD/melvinlee/Developer/ollama-playground/.venv/lib/python3.9/site-packages (from langsmith<0.4,>=0.1.125->langchain-community) (3.10.15)\n",
      "Requirement already satisfied: zstandard<0.24.0,>=0.23.0 in /Volumes/SSD/melvinlee/Developer/ollama-playground/.venv/lib/python3.9/site-packages (from langsmith<0.4,>=0.1.125->langchain-community) (0.23.0)\n",
      "Requirement already satisfied: requests-toolbelt<2.0.0,>=1.0.0 in /Volumes/SSD/melvinlee/Developer/ollama-playground/.venv/lib/python3.9/site-packages (from langsmith<0.4,>=0.1.125->langchain-community) (1.0.0)\n",
      "Requirement already satisfied: httpx<1,>=0.23.0 in /Volumes/SSD/melvinlee/Developer/ollama-playground/.venv/lib/python3.9/site-packages (from langsmith<0.4,>=0.1.125->langchain-community) (0.28.1)\n",
      "Requirement already satisfied: certifi>=2017.4.17 in /Volumes/SSD/melvinlee/Developer/ollama-playground/.venv/lib/python3.9/site-packages (from requests<3,>=2->langchain-community) (2025.1.31)\n",
      "Requirement already satisfied: charset-normalizer<4,>=2 in /Volumes/SSD/melvinlee/Developer/ollama-playground/.venv/lib/python3.9/site-packages (from requests<3,>=2->langchain-community) (3.4.1)\n",
      "Requirement already satisfied: urllib3<3,>=1.21.1 in /Volumes/SSD/melvinlee/Developer/ollama-playground/.venv/lib/python3.9/site-packages (from requests<3,>=2->langchain-community) (2.3.0)\n",
      "Requirement already satisfied: idna<4,>=2.5 in /Volumes/SSD/melvinlee/Developer/ollama-playground/.venv/lib/python3.9/site-packages (from requests<3,>=2->langchain-community) (3.10)\n",
      "Requirement already satisfied: anyio in /Volumes/SSD/melvinlee/Developer/ollama-playground/.venv/lib/python3.9/site-packages (from httpx<1,>=0.23.0->langsmith<0.4,>=0.1.125->langchain-community) (4.8.0)\n",
      "Requirement already satisfied: httpcore==1.* in /Volumes/SSD/melvinlee/Developer/ollama-playground/.venv/lib/python3.9/site-packages (from httpx<1,>=0.23.0->langsmith<0.4,>=0.1.125->langchain-community) (1.0.7)\n",
      "Requirement already satisfied: h11<0.15,>=0.13 in /Volumes/SSD/melvinlee/Developer/ollama-playground/.venv/lib/python3.9/site-packages (from httpcore==1.*->httpx<1,>=0.23.0->langsmith<0.4,>=0.1.125->langchain-community) (0.14.0)\n",
      "Requirement already satisfied: jsonpointer>=1.9 in /Volumes/SSD/melvinlee/Developer/ollama-playground/.venv/lib/python3.9/site-packages (from jsonpatch<2.0,>=1.33->langchain-core<1.0.0,>=0.3.34->langchain-community) (3.0.0)\n",
      "Requirement already satisfied: annotated-types>=0.6.0 in /Volumes/SSD/melvinlee/Developer/ollama-playground/.venv/lib/python3.9/site-packages (from pydantic<3.0.0,>=2.7.4->langchain<1.0.0,>=0.3.18->langchain-community) (0.7.0)\n",
      "Requirement already satisfied: pydantic-core==2.27.2 in /Volumes/SSD/melvinlee/Developer/ollama-playground/.venv/lib/python3.9/site-packages (from pydantic<3.0.0,>=2.7.4->langchain<1.0.0,>=0.3.18->langchain-community) (2.27.2)\n",
      "Requirement already satisfied: mypy-extensions>=0.3.0 in /Volumes/SSD/melvinlee/Developer/ollama-playground/.venv/lib/python3.9/site-packages (from typing-inspect<1,>=0.4.0->dataclasses-json<0.7,>=0.5.7->langchain-community) (1.0.0)\n",
      "Requirement already satisfied: exceptiongroup>=1.0.2 in /Volumes/SSD/melvinlee/Developer/ollama-playground/.venv/lib/python3.9/site-packages (from anyio->httpx<1,>=0.23.0->langsmith<0.4,>=0.1.125->langchain-community) (1.2.2)\n",
      "Requirement already satisfied: sniffio>=1.1 in /Volumes/SSD/melvinlee/Developer/ollama-playground/.venv/lib/python3.9/site-packages (from anyio->httpx<1,>=0.23.0->langsmith<0.4,>=0.1.125->langchain-community) (1.3.1)\n",
      "Installing collected packages: tqdm\n",
      "Successfully installed tqdm-4.67.1\n",
      "\n",
      "\u001b[1m[\u001b[0m\u001b[34;49mnotice\u001b[0m\u001b[1;39;49m]\u001b[0m\u001b[39;49m A new release of pip is available: \u001b[0m\u001b[31;49m23.0.1\u001b[0m\u001b[39;49m -> \u001b[0m\u001b[32;49m25.0.1\u001b[0m\n",
      "\u001b[1m[\u001b[0m\u001b[34;49mnotice\u001b[0m\u001b[1;39;49m]\u001b[0m\u001b[39;49m To update, run: \u001b[0m\u001b[32;49mpip install --upgrade pip\u001b[0m\n",
      "Note: you may need to restart the kernel to use updated packages.\n"
     ]
    }
   ],
   "source": [
    "# pip install langchain-community python-dotenv pymupdf tqdm"
   ]
  },
  {
   "cell_type": "markdown",
   "metadata": {},
   "source": [
    "Let's start by loading the environment variables."
   ]
  },
  {
   "cell_type": "code",
   "execution_count": 22,
   "metadata": {},
   "outputs": [
    {
     "data": {
      "text/plain": [
       "False"
      ]
     },
     "execution_count": 22,
     "metadata": {},
     "output_type": "execute_result"
    }
   ],
   "source": [
    "import os \n",
    "import warnings\n",
    "from dotenv import load_dotenv\n",
    "\n",
    "os.environ['KMP_DUPLICATE_LIB_OK'] = 'True'\n",
    "warnings.filterwarnings(\"ignore\")\n",
    "\n",
    "load_dotenv()"
   ]
  },
  {
   "cell_type": "markdown",
   "metadata": {},
   "source": [
    "## Document Loader"
   ]
  },
  {
   "cell_type": "code",
   "execution_count": 38,
   "metadata": {},
   "outputs": [],
   "source": [
    "from langchain_community.document_loaders import PyMuPDFLoader \n",
    "\n",
    "loader = PyMuPDFLoader(\"./dataset/Analysis of Actual Fitness Supplement.pdf\")\n",
    "docs = loader.load()"
   ]
  },
  {
   "cell_type": "markdown",
   "metadata": {},
   "source": [
    "Check the single doc"
   ]
  },
  {
   "cell_type": "code",
   "execution_count": null,
   "metadata": {},
   "outputs": [],
   "source": [
    "doc = docs[0]\n",
    "print (doc.page_content)"
   ]
  },
  {
   "cell_type": "markdown",
   "metadata": {},
   "source": [
    "Load PDF files from a directory  "
   ]
  },
  {
   "cell_type": "code",
   "execution_count": null,
   "metadata": {},
   "outputs": [],
   "source": [
    "import os \n",
    "from tqdm import tqdm\n",
    "\n",
    "# Find all PDFs\n",
    "pdf_files = []\n",
    "for root, dirs, files in os.walk(\"./dataset\"):\n",
    "    for file in files:\n",
    "        if file.endswith(\".pdf\"):\n",
    "            pdf_files.append(os.path.join(root, file))\n",
    "\n",
    " # Load documents with error handling\n",
    "docs = []\n",
    "for pdf_path in tqdm(pdf_files, desc=\"Loading PDFs\"):\n",
    "    try:\n",
    "        loader = PyMuPDFLoader(pdf_path)\n",
    "        docs.extend(loader.load())\n",
    "    except Exception as e:\n",
    "        print (f\"Error processing {pdf_path}: {e}\")\n",
    "\n",
    "# Display total no. of pages loaded\n",
    "print(f\"Loaded {len(docs)} pages\")\n"
   ]
  },
  {
   "cell_type": "markdown",
   "metadata": {},
   "source": [
    "## Text Splitting for Document Processing\n",
    "This code snippet implements document chunking using LangChain's text splitter, which is a crucial step in preparing documents for RAG (Retrieval Augmented Generation) systems."
   ]
  },
  {
   "cell_type": "code",
   "execution_count": 37,
   "metadata": {},
   "outputs": [
    {
     "name": "stdout",
     "output_type": "stream",
     "text": [
      "Successfully split 79 documents into 256 chunks\n"
     ]
    }
   ],
   "source": [
    "from langchain_text_splitters import RecursiveCharacterTextSplitter\n",
    "\n",
    "text_splitter = RecursiveCharacterTextSplitter(chunk_size=1000, chunk_overlap=100)\n",
    "\n",
    "try:\n",
    "    chunks = text_splitter.split_documents(docs)\n",
    "    print(f\"Successfully split {len(docs)} documents into {len(chunks)} chunks\")\n",
    "except Exception as e:\n",
    "    print(f\"Failed to split documents: {e}\")"
   ]
  }
 ],
 "metadata": {
  "kernelspec": {
   "display_name": ".venv",
   "language": "python",
   "name": "python3"
  },
  "language_info": {
   "codemirror_mode": {
    "name": "ipython",
    "version": 3
   },
   "file_extension": ".py",
   "mimetype": "text/x-python",
   "name": "python",
   "nbconvert_exporter": "python",
   "pygments_lexer": "ipython3",
   "version": "3.9.21"
  }
 },
 "nbformat": 4,
 "nbformat_minor": 2
}
